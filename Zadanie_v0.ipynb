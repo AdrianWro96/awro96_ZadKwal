{
 "cells": [
  {
   "cell_type": "code",
   "execution_count": 2,
   "id": "0c8deaac-313c-4efb-8a3b-b07b4f24325d",
   "metadata": {},
   "outputs": [],
   "source": [
    "import pandas as pd\n",
    "import numpy as np\n",
    "import matplotlib as plt\n",
    "import json\n",
    "import requests"
   ]
  },
  {
   "cell_type": "code",
   "execution_count": 3,
   "id": "d630d7e6-db18-44cd-84ae-6d4b7955d7bf",
   "metadata": {},
   "outputs": [],
   "source": [
    "x = requests.get('http://api.nbp.pl/api/exchangerates/tables/A/2020-09-21/2020-09-30/')"
   ]
  },
  {
   "cell_type": "code",
   "execution_count": 6,
   "id": "0dac6def-7b61-458b-a425-7b6246ec36b2",
   "metadata": {},
   "outputs": [],
   "source": [
    "ccy_series = x.json()"
   ]
  },
  {
   "cell_type": "code",
   "execution_count": 11,
   "id": "79eed58a-1f55-4e23-9c17-463d3d7067e6",
   "metadata": {},
   "outputs": [],
   "source": [
    "table_frame = pd.DataFrame(ccy_series)"
   ]
  },
  {
   "cell_type": "code",
   "execution_count": 15,
   "id": "1243c4cf-2c37-4fc3-913c-e038a880600e",
   "metadata": {},
   "outputs": [],
   "source": [
    "ccy_frame = pd.DataFrame(table_frame['rates'])"
   ]
  },
  {
   "cell_type": "code",
   "execution_count": 17,
   "id": "96c09d19-9149-49f1-87a1-c59a9706df88",
   "metadata": {},
   "outputs": [],
   "source": [
    "array = [json.loads(line) for ]"
   ]
  },
  {
   "cell_type": "code",
   "execution_count": null,
   "id": "839b139c-3216-4f31-8307-f06d38554c21",
   "metadata": {},
   "outputs": [],
   "source": []
  }
 ],
 "metadata": {
  "kernelspec": {
   "display_name": "Python 3 (ipykernel)",
   "language": "python",
   "name": "python3"
  },
  "language_info": {
   "codemirror_mode": {
    "name": "ipython",
    "version": 3
   },
   "file_extension": ".py",
   "mimetype": "text/x-python",
   "name": "python",
   "nbconvert_exporter": "python",
   "pygments_lexer": "ipython3",
   "version": "3.8.10"
  }
 },
 "nbformat": 4,
 "nbformat_minor": 5
}
