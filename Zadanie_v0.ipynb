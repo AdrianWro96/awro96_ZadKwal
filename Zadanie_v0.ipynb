{
 "cells": [
  {
   "cell_type": "code",
   "execution_count": 1,
   "id": "0c8deaac-313c-4efb-8a3b-b07b4f24325d",
   "metadata": {},
   "outputs": [],
   "source": [
    "import pandas as pd\n",
    "import numpy as np\n",
    "import matplotlib as plt\n",
    "import json\n",
    "import requests\n",
    "import datetime\n",
    "from datetime import timedelta"
   ]
  },
  {
   "cell_type": "code",
   "execution_count": null,
   "id": "cb082dfa-b241-4d59-87b0-1a192464804c",
   "metadata": {},
   "outputs": [],
   "source": [
    "start_date = input('Please enter the start date for the investment in the YYYY-MM-DD format: ')\n",
    "date_format = '%Y-%m-%d'\n",
    "while True:\n",
    "    try:\n",
    "        datetime.datetime.strptime(start_date, date_format)\n",
    "        break\n",
    "    except ValueError:\n",
    "        print('Provided date is not in correct format')\n",
    "        start_date = input('Please enter the start date for the investment in the YYYY-MM-DD format: ')"
   ]
  },
  {
   "cell_type": "code",
   "execution_count": null,
   "id": "85574463-cd60-44fb-b52e-4504a6e9157a",
   "metadata": {},
   "outputs": [],
   "source": [
    "year, month, day = map(int, start_date.split('-'))\n",
    "next_date = datetime.date(year, month, day) + timedelta(30)\n",
    "end_date = next_date.strftime('%Y') + '-' + next_date.strftime('%m') + '-' + next_date.strftime('%d') \n",
    "nbp_import = requests.get('http://api.nbp.pl/api/exchangerates/tables/A/{stdate}/{endate}/'.format(stdate = str(start_date), endate = str(end_date)))\n",
    "ccy_series = nbp_import.json()\n",
    "table_frame = pd.DataFrame(ccy_series)\n",
    "uncut_rates = table_frame['rates']\n",
    "rates = [pd.DataFrame(line).set_index('code') for line in uncut_rates]\n",
    "ccy_series = (pd.concat([rates[table]['mid'] for table in range(0, len(rates))], axis=1).transpose()).set_index(table_frame['effectiveDate'])\n",
    "headers = [header for header in ccy_series]"
   ]
  },
  {
   "cell_type": "code",
   "execution_count": null,
   "id": "fa51962b-22c5-490b-86d8-89c49f702d14",
   "metadata": {},
   "outputs": [],
   "source": [
    "request_1 = 'Please enter the first currency (ISO format) for the investment: '\n",
    "request_2 = 'Please enter the second currency (ISO format) for the investment: '\n",
    "request_3 = 'Please enter the third currency (ISO format) for the investment: '\n",
    "response_1 = 'Currency is not in ISO format'\n",
    "response_2 = 'Unfortunately, we do not have such currency in our database'\n",
    "CCY_IN1 = str(input(request_1))\n",
    "CCY_IN1 = CCY_IN1.upper()\n",
    "while len(CCY_IN1) != 3:\n",
    "    print(response_1)\n",
    "    CCY_IN1 = str(input(request_1))\n",
    "    CCY_IN1 = CCY_IN1.upper()\n",
    "while CCY_IN1 not in headers:\n",
    "    print(response_2)\n",
    "    CCY_IN1 = str(input(request_1))\n",
    "    CCY_IN1 = CCY_IN1.upper()\n",
    "CCY_IN2 = str(input(request_2))\n",
    "CCY_IN2 = CCY_IN2.upper()\n",
    "while len(CCY_IN2) != 3:\n",
    "    print(response_1)\n",
    "    CCY_IN2 = str(input(request_2))\n",
    "    CCY_IN2 = CCY_IN2.upper()\n",
    "while CCY_IN2 not in headers:\n",
    "    print(CCY_IN2)\n",
    "    print(response_2)\n",
    "    CCY_IN2 = str(input(request_2))\n",
    "    CCY_IN2 = CCY_IN2.upper()\n",
    "CCY_IN3 = str(input(request_3))\n",
    "CCY_IN3 = CCY_IN3.upper()\n",
    "while len(CCY_IN3) != 3:\n",
    "    print(response_1)\n",
    "    CCY_IN3 = str(input(request_3))\n",
    "    CCY_IN3 = CCY_IN3.upper()\n",
    "while CCY_IN3 not in headers:\n",
    "    print(CCY_IN3)\n",
    "    print(response_2)\n",
    "    CCY_IN3 = str(input(request_3))\n",
    "    CCY_IN3 = CCY_IN3.upper()"
   ]
  },
  {
   "cell_type": "code",
   "execution_count": null,
   "id": "b5c598be-4666-43f9-88e8-28f6dde2a8d6",
   "metadata": {},
   "outputs": [],
   "source": [
    "ccy = [str(CCY_IN1), str(CCY_IN2), str(CCY_IN3)]\n",
    "ccy_series[ccy]"
   ]
  },
  {
   "cell_type": "code",
   "execution_count": null,
   "id": "cce789b7-9ff0-4ca6-ba16-d1b34f19446f",
   "metadata": {},
   "outputs": [],
   "source": [
    "\n",
    "        "
   ]
  },
  {
   "cell_type": "code",
   "execution_count": null,
   "id": "19705582-0f9e-496f-a7a2-5ddfd0855200",
   "metadata": {},
   "outputs": [],
   "source": []
  }
 ],
 "metadata": {
  "kernelspec": {
   "display_name": "Python 3 (ipykernel)",
   "language": "python",
   "name": "python3"
  },
  "language_info": {
   "codemirror_mode": {
    "name": "ipython",
    "version": 3
   },
   "file_extension": ".py",
   "mimetype": "text/x-python",
   "name": "python",
   "nbconvert_exporter": "python",
   "pygments_lexer": "ipython3",
   "version": "3.8.10"
  }
 },
 "nbformat": 4,
 "nbformat_minor": 5
}
