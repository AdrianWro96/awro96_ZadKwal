{
 "cells": [
  {
   "cell_type": "code",
   "execution_count": 6,
   "id": "0c8deaac-313c-4efb-8a3b-b07b4f24325d",
   "metadata": {},
   "outputs": [],
   "source": [
    "import pandas as pd\n",
    "import numpy as np\n",
    "import matplotlib as plt\n",
    "import json\n",
    "import requests\n",
    "import datetime\n",
    "from datetime import timedelta\n",
    "from IPython.display import display\n",
    "import ipywidgets as widgets\n",
    "from ipywidgets import HTML"
   ]
  },
  {
   "cell_type": "code",
   "execution_count": 7,
   "id": "cb082dfa-b241-4d59-87b0-1a192464804c",
   "metadata": {},
   "outputs": [
    {
     "name": "stdin",
     "output_type": "stream",
     "text": [
      "Please enter the start date for the investment in the YYYY-MM-DD format:  2020-09-01\n"
     ]
    }
   ],
   "source": [
    "start_date = input('Please enter the start date for the investment in the YYYY-MM-DD format: ')\n",
    "date_format = '%Y-%m-%d'\n",
    "while True:\n",
    "    try:\n",
    "        datetime.datetime.strptime(start_date, date_format)\n",
    "        break\n",
    "    except ValueError:\n",
    "        print('Provided date is not in correct format')\n",
    "        start_date = input('Please enter the start date for the investment in the YYYY-MM-DD format: ')"
   ]
  },
  {
   "cell_type": "code",
   "execution_count": 8,
   "id": "85574463-cd60-44fb-b52e-4504a6e9157a",
   "metadata": {},
   "outputs": [],
   "source": [
    "year, month, day = map(int, start_date.split('-'))\n",
    "next_date = datetime.date(year, month, day) + timedelta(30)\n",
    "end_date = next_date.strftime('%Y') + '-' + next_date.strftime('%m') + '-' + next_date.strftime('%d') \n",
    "nbp_import = requests.get('http://api.nbp.pl/api/exchangerates/tables/A/{stdate}/{endate}/'.format(stdate = str(start_date), endate = str(end_date)))\n",
    "ccy_series = nbp_import.json()\n",
    "table_frame = pd.DataFrame(ccy_series)\n",
    "uncut_rates = table_frame['rates']\n",
    "rates = [pd.DataFrame(line).set_index('code') for line in uncut_rates]\n",
    "ccy_series = (pd.concat([rates[table]['mid'] for table in range(0, len(rates))], axis=1).transpose()).set_index(table_frame['effectiveDate'])\n",
    "headers = [header for header in ccy_series]"
   ]
  },
  {
   "cell_type": "code",
   "execution_count": 9,
   "id": "fa51962b-22c5-490b-86d8-89c49f702d14",
   "metadata": {},
   "outputs": [
    {
     "name": "stdin",
     "output_type": "stream",
     "text": [
      "Please enter the first currency (ISO format) for the investment:  eur\n",
      "Please enter the second currency (ISO format) for the investment:  usd\n",
      "Please enter the third currency (ISO format) for the investment:  gbp\n"
     ]
    }
   ],
   "source": [
    "request_1 = 'Please enter the first currency (ISO format) for the investment: '\n",
    "request_2 = 'Please enter the second currency (ISO format) for the investment: '\n",
    "request_3 = 'Please enter the third currency (ISO format) for the investment: '\n",
    "response_1 = 'Currency is not in ISO format'\n",
    "response_2 = 'Unfortunately, we do not have such currency in our database'\n",
    "CCY_IN1 = str(input(request_1))\n",
    "CCY_IN1 = CCY_IN1.upper()\n",
    "while len(CCY_IN1) != 3:\n",
    "    print(response_1)\n",
    "    CCY_IN1 = str(input(request_1))\n",
    "    CCY_IN1 = CCY_IN1.upper()\n",
    "while CCY_IN1 not in headers:\n",
    "    print(response_2)\n",
    "    CCY_IN1 = str(input(request_1))\n",
    "    CCY_IN1 = CCY_IN1.upper()\n",
    "CCY_IN2 = str(input(request_2))\n",
    "CCY_IN2 = CCY_IN2.upper()\n",
    "while len(CCY_IN2) != 3:\n",
    "    print(response_1)\n",
    "    CCY_IN2 = str(input(request_2))\n",
    "    CCY_IN2 = CCY_IN2.upper()\n",
    "while CCY_IN2 not in headers:\n",
    "    print(CCY_IN2)\n",
    "    print(response_2)\n",
    "    CCY_IN2 = str(input(request_2))\n",
    "    CCY_IN2 = CCY_IN2.upper()\n",
    "CCY_IN3 = str(input(request_3))\n",
    "CCY_IN3 = CCY_IN3.upper()\n",
    "while len(CCY_IN3) != 3:\n",
    "    print(response_1)\n",
    "    CCY_IN3 = str(input(request_3))\n",
    "    CCY_IN3 = CCY_IN3.upper()\n",
    "while CCY_IN3 not in headers:\n",
    "    print(CCY_IN3)\n",
    "    print(response_2)\n",
    "    CCY_IN3 = str(input(request_3))\n",
    "    CCY_IN3 = CCY_IN3.upper()"
   ]
  },
  {
   "cell_type": "code",
   "execution_count": 10,
   "id": "b5c598be-4666-43f9-88e8-28f6dde2a8d6",
   "metadata": {},
   "outputs": [
    {
     "data": {
      "text/html": [
       "<div>\n",
       "<style scoped>\n",
       "    .dataframe tbody tr th:only-of-type {\n",
       "        vertical-align: middle;\n",
       "    }\n",
       "\n",
       "    .dataframe tbody tr th {\n",
       "        vertical-align: top;\n",
       "    }\n",
       "\n",
       "    .dataframe thead th {\n",
       "        text-align: right;\n",
       "    }\n",
       "</style>\n",
       "<table border=\"1\" class=\"dataframe\">\n",
       "  <thead>\n",
       "    <tr style=\"text-align: right;\">\n",
       "      <th>code</th>\n",
       "      <th>EUR</th>\n",
       "      <th>USD</th>\n",
       "      <th>GBP</th>\n",
       "    </tr>\n",
       "    <tr>\n",
       "      <th>effectiveDate</th>\n",
       "      <th></th>\n",
       "      <th></th>\n",
       "      <th></th>\n",
       "    </tr>\n",
       "  </thead>\n",
       "  <tbody>\n",
       "    <tr>\n",
       "      <th>2020-09-01</th>\n",
       "      <td>4.3946</td>\n",
       "      <td>3.6707</td>\n",
       "      <td>4.9256</td>\n",
       "    </tr>\n",
       "    <tr>\n",
       "      <th>2020-09-02</th>\n",
       "      <td>4.4097</td>\n",
       "      <td>3.7191</td>\n",
       "      <td>4.9614</td>\n",
       "    </tr>\n",
       "    <tr>\n",
       "      <th>2020-09-03</th>\n",
       "      <td>4.4181</td>\n",
       "      <td>3.7337</td>\n",
       "      <td>4.9697</td>\n",
       "    </tr>\n",
       "    <tr>\n",
       "      <th>2020-09-04</th>\n",
       "      <td>4.4508</td>\n",
       "      <td>3.7533</td>\n",
       "      <td>4.9953</td>\n",
       "    </tr>\n",
       "    <tr>\n",
       "      <th>2020-09-07</th>\n",
       "      <td>4.4570</td>\n",
       "      <td>3.7666</td>\n",
       "      <td>4.9688</td>\n",
       "    </tr>\n",
       "    <tr>\n",
       "      <th>2020-09-08</th>\n",
       "      <td>4.4461</td>\n",
       "      <td>3.7652</td>\n",
       "      <td>4.9341</td>\n",
       "    </tr>\n",
       "    <tr>\n",
       "      <th>2020-09-09</th>\n",
       "      <td>4.4550</td>\n",
       "      <td>3.7871</td>\n",
       "      <td>4.9002</td>\n",
       "    </tr>\n",
       "    <tr>\n",
       "      <th>2020-09-10</th>\n",
       "      <td>4.4504</td>\n",
       "      <td>3.7610</td>\n",
       "      <td>4.8949</td>\n",
       "    </tr>\n",
       "    <tr>\n",
       "      <th>2020-09-11</th>\n",
       "      <td>4.4504</td>\n",
       "      <td>3.7534</td>\n",
       "      <td>4.7983</td>\n",
       "    </tr>\n",
       "    <tr>\n",
       "      <th>2020-09-14</th>\n",
       "      <td>4.4490</td>\n",
       "      <td>3.7522</td>\n",
       "      <td>4.8207</td>\n",
       "    </tr>\n",
       "    <tr>\n",
       "      <th>2020-09-15</th>\n",
       "      <td>4.4492</td>\n",
       "      <td>3.7445</td>\n",
       "      <td>4.8232</td>\n",
       "    </tr>\n",
       "    <tr>\n",
       "      <th>2020-09-16</th>\n",
       "      <td>4.4528</td>\n",
       "      <td>3.7526</td>\n",
       "      <td>4.8447</td>\n",
       "    </tr>\n",
       "    <tr>\n",
       "      <th>2020-09-17</th>\n",
       "      <td>4.4514</td>\n",
       "      <td>3.7713</td>\n",
       "      <td>4.8874</td>\n",
       "    </tr>\n",
       "    <tr>\n",
       "      <th>2020-09-18</th>\n",
       "      <td>4.4574</td>\n",
       "      <td>3.7585</td>\n",
       "      <td>4.8811</td>\n",
       "    </tr>\n",
       "    <tr>\n",
       "      <th>2020-09-21</th>\n",
       "      <td>4.4800</td>\n",
       "      <td>3.7963</td>\n",
       "      <td>4.8759</td>\n",
       "    </tr>\n",
       "    <tr>\n",
       "      <th>2020-09-22</th>\n",
       "      <td>4.5055</td>\n",
       "      <td>3.8359</td>\n",
       "      <td>4.9195</td>\n",
       "    </tr>\n",
       "    <tr>\n",
       "      <th>2020-09-23</th>\n",
       "      <td>4.4946</td>\n",
       "      <td>3.8399</td>\n",
       "      <td>4.8785</td>\n",
       "    </tr>\n",
       "    <tr>\n",
       "      <th>2020-09-24</th>\n",
       "      <td>4.5272</td>\n",
       "      <td>3.8833</td>\n",
       "      <td>4.9467</td>\n",
       "    </tr>\n",
       "    <tr>\n",
       "      <th>2020-09-25</th>\n",
       "      <td>4.5477</td>\n",
       "      <td>3.9016</td>\n",
       "      <td>4.9802</td>\n",
       "    </tr>\n",
       "    <tr>\n",
       "      <th>2020-09-28</th>\n",
       "      <td>4.5497</td>\n",
       "      <td>3.9083</td>\n",
       "      <td>5.0121</td>\n",
       "    </tr>\n",
       "    <tr>\n",
       "      <th>2020-09-29</th>\n",
       "      <td>4.5834</td>\n",
       "      <td>3.9228</td>\n",
       "      <td>5.0522</td>\n",
       "    </tr>\n",
       "    <tr>\n",
       "      <th>2020-09-30</th>\n",
       "      <td>4.5268</td>\n",
       "      <td>3.8658</td>\n",
       "      <td>4.9560</td>\n",
       "    </tr>\n",
       "    <tr>\n",
       "      <th>2020-10-01</th>\n",
       "      <td>4.5153</td>\n",
       "      <td>3.8513</td>\n",
       "      <td>4.9391</td>\n",
       "    </tr>\n",
       "  </tbody>\n",
       "</table>\n",
       "</div>"
      ],
      "text/plain": [
       "code              EUR     USD     GBP\n",
       "effectiveDate                        \n",
       "2020-09-01     4.3946  3.6707  4.9256\n",
       "2020-09-02     4.4097  3.7191  4.9614\n",
       "2020-09-03     4.4181  3.7337  4.9697\n",
       "2020-09-04     4.4508  3.7533  4.9953\n",
       "2020-09-07     4.4570  3.7666  4.9688\n",
       "2020-09-08     4.4461  3.7652  4.9341\n",
       "2020-09-09     4.4550  3.7871  4.9002\n",
       "2020-09-10     4.4504  3.7610  4.8949\n",
       "2020-09-11     4.4504  3.7534  4.7983\n",
       "2020-09-14     4.4490  3.7522  4.8207\n",
       "2020-09-15     4.4492  3.7445  4.8232\n",
       "2020-09-16     4.4528  3.7526  4.8447\n",
       "2020-09-17     4.4514  3.7713  4.8874\n",
       "2020-09-18     4.4574  3.7585  4.8811\n",
       "2020-09-21     4.4800  3.7963  4.8759\n",
       "2020-09-22     4.5055  3.8359  4.9195\n",
       "2020-09-23     4.4946  3.8399  4.8785\n",
       "2020-09-24     4.5272  3.8833  4.9467\n",
       "2020-09-25     4.5477  3.9016  4.9802\n",
       "2020-09-28     4.5497  3.9083  5.0121\n",
       "2020-09-29     4.5834  3.9228  5.0522\n",
       "2020-09-30     4.5268  3.8658  4.9560\n",
       "2020-10-01     4.5153  3.8513  4.9391"
      ]
     },
     "execution_count": 10,
     "metadata": {},
     "output_type": "execute_result"
    }
   ],
   "source": [
    "ccy = [str(CCY_IN1), str(CCY_IN2), str(CCY_IN3)]\n",
    "ccy_series[ccy]"
   ]
  },
  {
   "cell_type": "code",
   "execution_count": 11,
   "id": "fbe94e92-09ca-445c-9c2a-9d331c95256c",
   "metadata": {},
   "outputs": [
    {
     "data": {
      "application/vnd.jupyter.widget-view+json": {
       "model_id": "bc809608875142829b310f26bf12b705",
       "version_major": 2,
       "version_minor": 0
      },
      "text/plain": [
       "HBox(children=(FloatSlider(value=33.333333333333336, step=0.5), Checkbox(value=False, description='Lock slider…"
      ]
     },
     "metadata": {},
     "output_type": "display_data"
    },
    {
     "data": {
      "application/vnd.jupyter.widget-view+json": {
       "model_id": "038e21ce02554fa1939310abd3b50fae",
       "version_major": 2,
       "version_minor": 0
      },
      "text/plain": [
       "HBox(children=(FloatSlider(value=33.333333333333336, step=0.5), Checkbox(value=False, description='Lock slider…"
      ]
     },
     "metadata": {},
     "output_type": "display_data"
    },
    {
     "data": {
      "application/vnd.jupyter.widget-view+json": {
       "model_id": "0a7f8ea12e9948e18f28a9bb47d7814b",
       "version_major": 2,
       "version_minor": 0
      },
      "text/plain": [
       "HBox(children=(FloatSlider(value=33.333333333333336, step=0.5), Checkbox(value=False, description='Lock slider…"
      ]
     },
     "metadata": {},
     "output_type": "display_data"
    }
   ],
   "source": [
    "amp1 = widgets.FloatSlider(min=0, max=100, step=0.5, value=100/3)\n",
    "checkbox1 = widgets.Checkbox(value=False, description ='Lock slider')\n",
    "box1 = widgets.HBox([amp1, checkbox1])\n",
    "amp2 = widgets.FloatSlider(min=0, max=100, step=0.5, value=100/3)\n",
    "checkbox2 = widgets.Checkbox(value=False, description ='Lock slider')\n",
    "box2 = widgets.HBox([amp2, checkbox2])\n",
    "amp3 = widgets.FloatSlider(min=0, max=100, step=0.5, value=100/3)\n",
    "checkbox3 = widgets.Checkbox(value=False, description ='Lock slider')\n",
    "box3 = widgets.HBox([amp3, checkbox3])\n",
    "display(box1, box2, box3)"
   ]
  },
  {
   "cell_type": "code",
   "execution_count": null,
   "id": "bdd6af23-e551-4248-8ec2-98ebffbdfd64",
   "metadata": {},
   "outputs": [],
   "source": [
    "amp1.value + amp2.value + amp3.value"
   ]
  },
  {
   "cell_type": "code",
   "execution_count": null,
   "id": "3300171d-bf87-4ab8-a5b4-af5003d7a1b3",
   "metadata": {},
   "outputs": [],
   "source": [
    "checkbox2.value"
   ]
  },
  {
   "cell_type": "code",
   "execution_count": 12,
   "id": "2e393dc5-c28f-43a2-953d-7f372d1bd012",
   "metadata": {},
   "outputs": [],
   "source": [
    "def update_slider1(change):\n",
    "    if checkbox2.value == True:\n",
    "        amp2.disabled = True\n",
    "        amp3.value = 100 - amp2.value - amp1.value\n",
    "    else:\n",
    "        amp2.disabled = False\n",
    "        amp2.value = 100 - amp1.value - amp3.value\n",
    "def update_slider2(change):\n",
    "    while checkbox3.value == True:\n",
    "        amp3.disabled = True\n",
    "        amp1.value = 100 - amp3.value - amp2.value\n",
    "    else:\n",
    "        amp3.disabled = False\n",
    "        amp3.value = 100 - amp2.value - amp1.value\n",
    "def update_slider3(change):\n",
    "    while checkbox1.value == True:\n",
    "        amp1.disabled = True\n",
    "        amp2.value = 100 - amp2.value - amp1.value\n",
    "    else:\n",
    "        amp1.disabled = False\n",
    "        amp1.value = 100 - amp3.value - amp2.value\n",
    "    \n",
    "amp1.observe(update_slider1, 'value')\n",
    "amp2.observe(update_slider2, 'value')\n",
    "amp3.observe(update_slider3, 'value')"
   ]
  },
  {
   "cell_type": "code",
   "execution_count": null,
   "id": "d1988d6f-4bd7-4be2-99a5-d347c51c909a",
   "metadata": {},
   "outputs": [],
   "source": [
    "from ipywidgets import interact\n",
    "def f(x):\n",
    "    return x\n",
    "interact(f, x = widgets.IntSlider)"
   ]
  },
  {
   "cell_type": "code",
   "execution_count": null,
   "id": "15b8d29a-30eb-4a9b-b1a8-425e4b23991e",
   "metadata": {},
   "outputs": [],
   "source": []
  }
 ],
 "metadata": {
  "kernelspec": {
   "display_name": "Python 3 (ipykernel)",
   "language": "python",
   "name": "python3"
  },
  "language_info": {
   "codemirror_mode": {
    "name": "ipython",
    "version": 3
   },
   "file_extension": ".py",
   "mimetype": "text/x-python",
   "name": "python",
   "nbconvert_exporter": "python",
   "pygments_lexer": "ipython3",
   "version": "3.8.10"
  }
 },
 "nbformat": 4,
 "nbformat_minor": 5
}
